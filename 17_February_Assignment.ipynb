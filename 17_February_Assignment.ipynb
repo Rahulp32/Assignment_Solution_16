{
 "cells": [
  {
   "cell_type": "markdown",
   "id": "397a7206-aaff-46f1-a215-35596ec48978",
   "metadata": {},
   "source": [
    "# 17_February_16th_Assignment"
   ]
  },
  {
   "cell_type": "code",
   "execution_count": null,
   "id": "b2cb2013-abd3-475e-856c-cd25938c1a23",
   "metadata": {},
   "outputs": [],
   "source": []
  },
  {
   "cell_type": "markdown",
   "id": "3e5179fe-5400-4667-8e8e-ca20bf29c64f",
   "metadata": {},
   "source": [
    "### Q1. What is MongoDB? Explain non-relational databases in short. In which scenarios it is preferred to use MongoDB over SQL databases?"
   ]
  },
  {
   "cell_type": "markdown",
   "id": "69a9916c-b10f-4534-b404-8eef9f87dff2",
   "metadata": {},
   "source": [
    "**MongoDB** is a popular **NoSQL (non-relational)** database that stores data in a flexible, JSON-like format called **BSON** (Binary JSON). It is designed to handle unstructured or semi-structured data, making it highly scalable and suitable for modern applications.\n",
    "\n",
    "---\n",
    "\n",
    "### **What Are Non-Relational Databases?**\n",
    "\n",
    "**Non-relational databases** (or NoSQL databases) are databases that do not use the traditional table-based schema of relational databases. Instead, they store data in various formats like:\n",
    "1. **Document-based** (e.g., MongoDB, CouchDB)\n",
    "2. **Key-value pairs** (e.g., Redis, DynamoDB)\n",
    "3. **Graph-based** (e.g., Neo4j)\n",
    "4. **Column-family stores** (e.g., Cassandra, HBase)\n",
    "\n",
    "**Key Features of Non-Relational Databases:**\n",
    "- **Schema flexibility**: No fixed schema; data structures can evolve over time.\n",
    "- **Horizontal scalability**: Easily scales across multiple servers.\n",
    "- **High performance**: Optimized for specific data models and use cases.\n",
    "\n",
    "---\n",
    "\n",
    "### **When to Prefer MongoDB Over SQL Databases**\n",
    "\n",
    "**Scenarios Where MongoDB Is Preferred:**\n",
    "1. **Dynamic Schema Requirements**:\n",
    "   - When the data structure is frequently changing or unstructured, MongoDB’s schema-less nature is advantageous.\n",
    "\n",
    "2. **Handling Large Volumes of Data**:\n",
    "   - MongoDB scales horizontally, making it suitable for applications with massive amounts of data.\n",
    "\n",
    "3. **High-Performance Applications**:\n",
    "   - Applications requiring low-latency data access and high throughput.\n",
    "\n",
    "4. **Document-Oriented Data**:\n",
    "   - When the data is naturally represented as documents (e.g., JSON), such as in content management systems or product catalogs.\n",
    "\n",
    "5. **Real-Time Applications**:\n",
    "   - Use cases like IoT, social media platforms, and analytics where real-time data processing is crucial.\n",
    "\n",
    "6. **Geospatial Data**:\n",
    "   - MongoDB provides excellent support for geospatial queries, making it ideal for location-based applications.\n",
    "\n",
    "7. **Cloud-Native Applications**:\n",
    "   - MongoDB integrates seamlessly with cloud platforms, enabling developers to build scalable, distributed systems.\n",
    "\n",
    "---\n",
    "\n",
    "### **When to Prefer SQL Databases Over MongoDB**\n",
    "- **Structured Data**: When the data has a fixed schema and requires complex relationships.\n",
    "- **ACID Compliance**: For applications requiring strong transactional guarantees (e.g., banking systems).\n",
    "- **Complex Joins**: When complex queries and joins are frequent, SQL databases are more efficient.\n",
    "\n",
    "---\n",
    "\n",
    "### **Comparison Between MongoDB and SQL Databases**\n",
    "\n",
    "| **Aspect**          | **MongoDB**                          | **SQL Databases**                   |\n",
    "|----------------------|---------------------------------------|--------------------------------------|\n",
    "| **Data Model**       | Document-based (JSON/BSON)           | Table-based (rows and columns)      |\n",
    "| **Schema**           | Flexible (schema-less)               | Fixed (schema-dependent)            |\n",
    "| **Scalability**      | Horizontal (distributed systems)     | Vertical (adding resources to a single server) |\n",
    "| **Transactions**     | Supports multi-document transactions (limited) | Fully ACID-compliant                |\n",
    "| **Performance**      | Optimized for unstructured data and high throughput | Optimized for structured data and complex queries |\n",
    "| **Use Cases**        | Real-time, big data, IoT, CMS        | Banking, ERP, CRM                   |\n"
   ]
  },
  {
   "cell_type": "code",
   "execution_count": null,
   "id": "60ac773c-963f-47fc-b7cf-34099fb35bb6",
   "metadata": {},
   "outputs": [],
   "source": []
  },
  {
   "cell_type": "markdown",
   "id": "044d8b73-8d80-4ebb-83fa-b83ca13e4f53",
   "metadata": {},
   "source": [
    "## Q2. State and Explain the features of MongoDB."
   ]
  },
  {
   "cell_type": "markdown",
   "id": "3a639300-28ea-4756-8317-818a93e49981",
   "metadata": {},
   "source": [
    "### **Features of MongoDB**\n",
    "\n",
    "MongoDB is a powerful NoSQL database known for its flexibility, scalability, and high performance. Below are its key features:\n",
    "\n",
    "---\n",
    "\n",
    "### **1. Schema-less Database**\n",
    "- MongoDB is schema-less, meaning it does not require a predefined schema for storing data.\n",
    "- Documents in a collection can have different fields, data types, and structures.\n",
    "- **Example:** A collection can store documents like:"
   ]
  },
  {
   "cell_type": "code",
   "execution_count": 13,
   "id": "99907d40-998b-4549-8ccd-e9419ec72a53",
   "metadata": {},
   "outputs": [
    {
     "data": {
      "text/plain": [
       "{'name': 'Bob', 'address': '123 Main St'}"
      ]
     },
     "execution_count": 13,
     "metadata": {},
     "output_type": "execute_result"
    }
   ],
   "source": [
    "{ \"name\": \"Alice\", \"age\": 25 }\n",
    "{ \"name\": \"Bob\", \"address\": \"123 Main St\" }\n"
   ]
  },
  {
   "cell_type": "markdown",
   "id": "aac2dc38-90bf-4354-93e6-959a7a26fe92",
   "metadata": {},
   "source": [
    "### **2. Document-Oriented Storage**\n",
    "- Data is stored in the form of **documents** (JSON-like BSON format).\n",
    "- Each document represents a record and contains key-value pairs.\n",
    "- **Example:**"
   ]
  },
  {
   "cell_type": "code",
   "execution_count": 16,
   "id": "c6b26362-ea50-4de5-bc9d-c0fbd7ea5a35",
   "metadata": {},
   "outputs": [
    {
     "data": {
      "text/plain": [
       "{'name': 'John Doe', 'email': 'john@example.com', 'age': 30}"
      ]
     },
     "execution_count": 16,
     "metadata": {},
     "output_type": "execute_result"
    }
   ],
   "source": [
    "{\n",
    "  \"name\": \"John Doe\",\n",
    "  \"email\": \"john@example.com\",\n",
    "  \"age\": 30\n",
    "}\n"
   ]
  },
  {
   "cell_type": "markdown",
   "id": "80bdd4db-86e4-4956-80ea-c422d8f0efda",
   "metadata": {},
   "source": [
    "### **3. High Scalability**\n",
    "- MongoDB supports **horizontal scaling** through **sharding**, where data is distributed across multiple servers.\n",
    "- This makes it ideal for handling large datasets and high-traffic applications.\n",
    "\n",
    "\n",
    "\n",
    "### **4. Indexing**\n",
    "- MongoDB supports indexing to improve query performance.\n",
    "- You can create indexes on any field, including embedded fields within documents.\n",
    "- **Example:** Indexing the `email` field:\n",
    "\n",
    "\n",
    "### **5. Aggregation Framework**\n",
    "- MongoDB provides a powerful **aggregation framework** for data processing and analytics.\n",
    "- Operations like filtering, grouping, and sorting can be performed on the server side.\n",
    "\n",
    "\n",
    "\n",
    "### **6. Geospatial Queries**\n",
    "- MongoDB supports geospatial data and queries, making it suitable for location-based applications.\n",
    "\n",
    "\n",
    "### **7. High Availability**\n",
    "- MongoDB ensures high availability through **replication**.\n",
    "- A **replica set** consists of multiple copies of data, with one primary node and multiple secondary nodes for failover.\n",
    "\n",
    "\n",
    "### **8. Ad Hoc Queries**\n",
    "- MongoDB supports ad hoc queries, allowing you to query documents using dynamic conditions.\n",
    "\n",
    "### **9. Flexible Data Model**\n",
    "- MongoDB allows embedding documents and arrays, reducing the need for complex joins.\n",
    "\n",
    "### **10. Transaction Support**\n",
    "- MongoDB supports **multi-document ACID transactions**, ensuring data consistency across multiple documents.\n",
    "\n",
    "\n",
    "### **11. Open-Source**\n",
    "- MongoDB is open-source, allowing developers to use and modify it freely.\n",
    "\n",
    "\n",
    "### **12. Integration with Big Data and Analytics**\n",
    "- MongoDB integrates seamlessly with big data tools like Apache Spark, Hadoop, and BI tools.\n",
    "\n",
    "\n",
    "### **13. Platform Independence**\n",
    "- MongoDB runs on multiple platforms, including Windows, Linux, and macOS.\n",
    "\n",
    "\n",
    "### **14. Easy Integration with Programming Languages**\n",
    "- MongoDB has drivers for many programming languages, including Python, Java, Node.js, C#, and PHP.\n",
    "\n",
    "\n",
    "### **15. GridFS**\n",
    "- MongoDB supports storing large files (like images and videos) using **GridFS**, splitting files into smaller chunks.\n",
    "\n",
    "\n",
    "### **Summary Table**\n",
    "\n",
    "| **Feature**           | **Description**                                                   |\n",
    "|------------------------|-------------------------------------------------------------------|\n",
    "| Schema-less            | No predefined schema; flexible data structure.                  |\n",
    "| Document-Oriented      | Data stored as JSON-like BSON documents.                        |\n",
    "| High Scalability       | Horizontal scaling with sharding.                               |\n",
    "| Indexing               | Improves query performance.                                     |\n",
    "| Aggregation Framework  | Powerful analytics and data processing.                        |\n",
    "| Geospatial Queries     | Supports location-based queries.                                |\n",
    "| High Availability      | Ensures availability through replication.                      |\n",
    "| Ad Hoc Queries         | Dynamic and flexible query capabilities.                       |\n",
    "| Flexible Data Model    | Supports embedded documents and arrays.                        |\n",
    "| Transaction Support    | Multi-document ACID transactions.                              |\n",
    "| Open-Source            | Freely available and modifiable.                               |\n",
    "| Big Data Integration   | Works with Hadoop, Spark, and BI tools.                        |\n",
    "| Platform Independence  | Compatible with various operating systems.                     |\n",
    "| Language Integration   | Drivers for multiple programming languages.                    |\n",
    "| GridFS                | Handles large files efficiently.                                |"
   ]
  },
  {
   "cell_type": "code",
   "execution_count": null,
   "id": "935ae7d3-dd56-40ab-87ff-b9cae4f219bf",
   "metadata": {},
   "outputs": [],
   "source": []
  },
  {
   "cell_type": "markdown",
   "id": "763282ad-9344-427f-a01d-b6242396c317",
   "metadata": {},
   "source": [
    "## Q3. Write a code to connect MongoDB to Python. Also, create a database and a collection in MongoDB."
   ]
  },
  {
   "cell_type": "markdown",
   "id": "4355b17a-55b8-41be-9d5b-a62494a7655c",
   "metadata": {},
   "source": [
    "Here is a complete code example to connect MongoDB to Python, create a database, and create a collection using the `pymongo` library.\n",
    "\n",
    "---\n",
    "\n",
    "### **Step 1: Install `pymongo`**\n"
   ]
  },
  {
   "cell_type": "code",
   "execution_count": 44,
   "id": "f8a4b42d-5a94-4797-899e-8a0391dfabf6",
   "metadata": {},
   "outputs": [
    {
     "name": "stdout",
     "output_type": "stream",
     "text": [
      "Requirement already satisfied: pymongo in /opt/anaconda3/lib/python3.11/site-packages (4.10.1)\n",
      "Requirement already satisfied: dnspython<3.0.0,>=1.16.0 in /opt/anaconda3/lib/python3.11/site-packages (from pymongo) (2.7.0)\n",
      "Note: you may need to restart the kernel to use updated packages.\n"
     ]
    }
   ],
   "source": [
    "pip install pymongo\n"
   ]
  },
  {
   "cell_type": "markdown",
   "id": "f371ae31-e44f-427c-adb4-c04063afedba",
   "metadata": {},
   "source": [
    "### **Step 2: Python Code to Connect to MongoDB, Create a Database, and Create a Collection**"
   ]
  },
  {
   "cell_type": "code",
   "execution_count": 55,
   "id": "5ed7aab8-3698-4721-954a-8b0faa4aa699",
   "metadata": {},
   "outputs": [
    {
     "name": "stdout",
     "output_type": "stream",
     "text": [
      "Connected to MongoDB successfully!\n",
      "Database created: my_database\n",
      "Collection created: my_collection\n"
     ]
    }
   ],
   "source": [
    "from pymongo import MongoClient\n",
    "\n",
    "# Step 1: Connect to MongoDB\n",
    "client = MongoClient(\"mongodb://localhost:27017/\")  # Replace with your MongoDB connection string\n",
    "print(\"Connected to MongoDB successfully!\")\n",
    "\n",
    "# Step 2: Create a Database\n",
    "db = client[\"my_database\"]  # Replace 'my_database' with your desired database name\n",
    "print(f\"Database created: {db.name}\")\n",
    "\n",
    "# Step 3: Create a Collection\n",
    "collection = db[\"my_collection\"]  # Replace 'my_collection' with your desired collection name\n",
    "print(f\"Collection created: {collection.name}\")\n",
    "\n"
   ]
  },
  {
   "cell_type": "markdown",
   "id": "1f1ad117-e5e9-4e8f-828f-184799fd7879",
   "metadata": {},
   "source": [
    "---\n",
    "\n",
    "### **Explanation of the Code**\n",
    "\n",
    "1. **Connecting to MongoDB**:\n",
    "   - `MongoClient(\"mongodb://localhost:27017/\")` connects to the MongoDB server running locally. Replace the connection string with your remote MongoDB URI if needed.\n",
    "\n",
    "2. **Creating a Database**:\n",
    "   - `client[\"my_database\"]` creates a database named `my_database`. MongoDB creates the database only when data is inserted into it.\n",
    "\n",
    "3. **Creating a Collection**:\n",
    "   - `db[\"my_collection\"]` creates a collection named `my_collection`. Similar to databases, MongoDB creates the collection only when data is inserted into it.\n",
    "\n",
    "4. **Inserting a Document**:\n",
    "   - `collection.insert_one()` inserts a single document into the collection.\n",
    "   - The document is a Python dictionary (e.g., `{\"name\": \"John Doe\", \"email\": \"john.doe@example.com\", \"age\": 30}`).\n",
    "\n"
   ]
  },
  {
   "cell_type": "code",
   "execution_count": null,
   "id": "1ae16659-c1b3-4c85-a4d3-87970e3839bd",
   "metadata": {},
   "outputs": [],
   "source": []
  },
  {
   "cell_type": "code",
   "execution_count": null,
   "id": "645d6803-3a14-4009-8f49-0a3f8a0df2fe",
   "metadata": {},
   "outputs": [],
   "source": []
  }
 ],
 "metadata": {
  "kernelspec": {
   "display_name": "Python 3 (ipykernel)",
   "language": "python",
   "name": "python3"
  },
  "language_info": {
   "codemirror_mode": {
    "name": "ipython",
    "version": 3
   },
   "file_extension": ".py",
   "mimetype": "text/x-python",
   "name": "python",
   "nbconvert_exporter": "python",
   "pygments_lexer": "ipython3",
   "version": "3.11.7"
  }
 },
 "nbformat": 4,
 "nbformat_minor": 5
}
